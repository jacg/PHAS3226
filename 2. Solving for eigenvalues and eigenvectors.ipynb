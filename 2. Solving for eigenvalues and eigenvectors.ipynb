{
 "cells": [
  {
   "cell_type": "markdown",
   "metadata": {
    "ein.tags": [
     "worksheet-0"
    ]
   },
   "source": [
    "# Solving for eigenvalues and eigenvectors"
   ]
  },
  {
   "cell_type": "markdown",
   "metadata": {
    "ein.tags": [
     "worksheet-0"
    ]
   },
   "source": [
    "We saw in the previous notebook how to set up a matrix by integrating between pairs of basis functions.  In this notebook we will solve for the eigenvalues and eigenvectors of the Hamiltonian for a square well, exploring what happens when we use a finite basis set, and introduce changes to the potential in the square well."
   ]
  },
  {
   "cell_type": "markdown",
   "metadata": {
    "ein.tags": [
     "worksheet-0"
    ]
   },
   "source": [
    "## Eigenbasis, adding potential"
   ]
  },
  {
   "cell_type": "markdown",
   "metadata": {
    "ein.tags": [
     "worksheet-0"
    ]
   },
   "source": [
    "We will start by using the eigenbasis (since it's simple) and will add small changes to the potential.  This will give us some insight into the effect of perturbations (and will feed directly into our studies of perturbation theory)."
   ]
  },
  {
   "cell_type": "markdown",
   "metadata": {
    "ein.tags": [
     "worksheet-0"
    ]
   },
   "source": [
    "First we import the necessary libraries"
   ]
  },
  {
   "cell_type": "code",
   "execution_count": 1,
   "metadata": {
    "autoscroll": "json-false",
    "collapsed": false,
    "ein.tags": [
     "worksheet-0"
    ]
   },
   "outputs": [
    {
     "name": "stdout",
     "output_type": "stream",
     "text": [
      "Populating the interactive namespace from numpy and matplotlib\n"
     ]
    }
   ],
   "source": [
    "# Import libraries and set up in-line plotting.\n",
    "%pylab --no-import-all inline\n",
    "# This is a new library - linear algebra includes solving for eigenvalues & eigenvectors of matrices\n",
    "import numpy.linalg as la"
   ]
  },
  {
   "cell_type": "markdown",
   "metadata": {
    "ein.tags": [
     "worksheet-0"
    ]
   },
   "source": [
    "In the previous notebook we saved the definitons of the eigenstates in the file `eigenstates.py`. Let's have a look at this file to remind ourselves (Unfortunately %load seems to be broken in the web-based notebook interface (slightly broken) and EIN (completely broken) in two distinct ways, so we'll hack around it with !cat and %run for now. But *some* solid means of avoiding cut'n'paste code reuse must be found!)"
   ]
  },
  {
   "cell_type": "code",
   "execution_count": 2,
   "metadata": {
    "autoscroll": "json-false",
    "collapsed": false,
    "ein.tags": [
     "worksheet-0"
    ]
   },
   "outputs": [
    {
     "name": "stdout",
     "output_type": "stream",
     "text": [
      "# coding: utf-8\r\n",
      "number_of_base_states = 10 # The number of base states we want to consider\r\n",
      "from numpy import sin, pi, sqrt # Because using np.sin and np.pi etc. is annoying\r\n",
      "\r\n",
      "# Define the x-axis\r\n",
      "width = 1.0\r\n",
      "num_x_points = 101\r\n",
      "x = np.linspace(0.0,width,num_x_points)\r\n",
      "dx = width/(num_x_points - 1)\r\n",
      "\r\n",
      "def eigenbasis_sw(n,width,x):\r\n",
      "    \"\"\"The eigenbasis for a square well, running from 0 to a (width), sin(n pi x/a).\"\"\"\r\n",
      "    fac = pi*n/width\r\n",
      "    return sin(fac*x)\r\n",
      "\r\n",
      "def d2eigenbasis_sw(n,width,x):\r\n",
      "    \"\"\"The second derivative of the eigenbasis for a square well,\r\n",
      "    running from 0 to a, sin(n pi x/a)\"\"\"\r\n",
      "    fac = pi*n/width\r\n",
      "    return -fac*fac*sin(fac*x)\r\n",
      "\r\n",
      "unnormalised_eigenbases   = np.array([   eigenbasis_sw(n,width,x) for n in range(1,number_of_base_states+1) ])\r\n",
      "d2unnormalised_eigenbases = np.array([ d2eigenbasis_sw(n,width,x) for n in range(1,number_of_base_states+1) ])\r\n",
      "def integrate_function(f, dx):\r\n",
      "    \"\"\"Integrate a function approximated by a numpy array with spacing dx\"\"\"\r\n",
      "    return sum(f)*dx\r\n",
      "normalisations = [ sqrt(1 / integrate_function(f*f, dx)) for f in unnormalised_eigenbases ]\r\n",
      "normalised_eigenbases   = [ f*norm for (f,norm) in zip(  unnormalised_eigenbases, normalisations) ]\r\n",
      "d2normalised_eigenbases = [ f*norm for (f,norm) in zip(d2unnormalised_eigenbases, normalisations) ]\r\n"
     ]
    }
   ],
   "source": [
    "!cat eigenstates.py"
   ]
  },
  {
   "cell_type": "markdown",
   "metadata": {
    "ein.tags": [
     "worksheet-0"
    ]
   },
   "source": [
    "Now we'll execute the above code inside this notebook"
   ]
  },
  {
   "cell_type": "code",
   "execution_count": 3,
   "metadata": {
    "autoscroll": "json-false",
    "collapsed": false,
    "ein.tags": [
     "worksheet-0"
    ]
   },
   "outputs": [],
   "source": [
    "%run -i eigenstates.py"
   ]
  },
  {
   "cell_type": "markdown",
   "metadata": {
    "ein.tags": [
     "worksheet-0"
    ]
   },
   "source": [
    "We have now set up all the mechanics that we need to create matrices for different Hamiltonians, except for one thing: the potential.  We have an implicit potential already in the infinite square well (we set $V=\\infty$ when $x=0$ or $x=a$).  If we create a potential function, then we can change this and create different Hamiltonian matrices.  So we'll do this next."
   ]
  },
  {
   "cell_type": "code",
   "execution_count": 4,
   "metadata": {
    "autoscroll": "json-false",
    "collapsed": false,
    "ein.tags": [
     "worksheet-0"
    ]
   },
   "outputs": [
    {
     "data": {
      "image/png": "[encoded data removed]",
      "text/plain": [
       "<matplotlib.figure.Figure at 0x7fe1ac883a10>"
      ]
     },
     "metadata": {},
     "output_type": "display_data"
    }
   ],
   "source": [
    "def square_well_potential(x,a): # TODO This name seems wrong\n",
    "    mid = x.size // 2\n",
    "    V = np.zeros_like(x)\n",
    "    V[mid-1:mid+2] = [a]*3 # [a,a,a]\n",
    "    return V\n",
    "\n",
    "Vbump = square_well_potential(x,0.5)\n",
    "plt.plot(x, Vbump);"
   ]
  },
  {
   "cell_type": "markdown",
   "metadata": {
    "ein.tags": [
     "worksheet-0"
    ]
   },
   "source": [
    "## Solving for the eigenvalues"
   ]
  },
  {
   "cell_type": "markdown",
   "metadata": {
    "ein.tags": [
     "worksheet-0"
    ]
   },
   "source": [
    "Now that we have the potential, we need to build the matrix (remember that we have set $\\hbar = m = 1$):\n",
    "$H_{mn} = \\langle \\phi_m \\vert -\\frac{1}{2}\\nabla^2 + \\hat{V}\\vert\\phi_n\\rangle$"
   ]
  },
  {
   "cell_type": "code",
   "execution_count": 5,
   "metadata": {
    "autoscroll": "json-false",
    "collapsed": false,
    "ein.tags": [
     "worksheet-0"
    ]
   },
   "outputs": [],
   "source": [
    "def Hamiltonian(V, psi, d2psi):\n",
    "    return KE_term(d2psi) + PE_term(V, psi)\n",
    "\n",
    "def KE_term(d2psi):\n",
    "    return -d2psi / 2"
   ]
  },
  {
   "cell_type": "markdown",
   "metadata": {
    "ein.tags": [
     "worksheet-0"
    ]
   },
   "source": [
    "By diagonalisation, we will find the eigenvalues.\n",
    "\n",
    "It's worth noting that we act with $\\hat{V}$ by multiplication in position representation:\n",
    "\n",
    "$$\\langle x \\vert \\hat{V} \\vert \\phi_m\\rangle = V(x) \\phi_m(x)$$"
   ]
  },
  {
   "cell_type": "code",
   "execution_count": 6,
   "metadata": {
    "autoscroll": "json-false",
    "collapsed": false,
    "ein.tags": [
     "worksheet-0"
    ]
   },
   "outputs": [],
   "source": [
    "def PE_term(V, psi):\n",
    "    return V * psi"
   ]
  },
  {
   "cell_type": "markdown",
   "metadata": {
    "ein.tags": [
     "worksheet-0"
    ]
   },
   "source": [
    "Then we make matrix elements by integration in position representation; as we've defined a grid on which to represent the system, we'll just sum over the values on the grid (though there are much more accurate ways to do numerical integration).\n",
    "\n",
    "$$H_{ij} = \\langle \\phi_i \\vert \\hat{H} \\vert \\phi_j \\rangle = \\int dx \\phi_i^\\star(x) \\hat{H} \\phi_j(x)$$\n",
    "\n",
    "We will print out the matrix of _just_ the potential first: $\\langle \\phi_m \\vert \\hat{V} \\vert \\phi_n\\rangle$.  This will be useful when thinking about perturbation theory (the change in eigenvalues should be the same as the diagonal elements of the potential matrix, to first order in the potential)."
   ]
  },
  {
   "cell_type": "code",
   "execution_count": 7,
   "metadata": {
    "autoscroll": "json-false",
    "collapsed": false,
    "ein.tags": [
     "worksheet-0"
    ]
   },
   "outputs": [
    {
     "name": "stdout",
     "output_type": "stream",
     "text": [
      "Potential matrix elements:\n",
      "   0.030    0.000   -0.030   -0.000    0.030    0.000   -0.030   -0.000    0.029    0.000\n",
      "   0.000    0.000   -0.000   -0.000    0.000    0.000   -0.000   -0.000    0.000    0.000\n",
      "  -0.030   -0.000    0.030    0.000   -0.030   -0.000    0.029    0.000   -0.029   -0.000\n",
      "  -0.000   -0.000    0.000    0.000   -0.000   -0.000    0.000    0.001   -0.000   -0.001\n",
      "   0.030    0.000   -0.030   -0.000    0.030    0.000   -0.029   -0.000    0.029    0.000\n",
      "   0.000    0.000   -0.000   -0.000    0.000    0.001   -0.000   -0.001    0.000    0.001\n",
      "  -0.030   -0.000    0.029    0.000   -0.029   -0.000    0.029    0.000   -0.029   -0.000\n",
      "  -0.000   -0.000    0.000    0.001   -0.000   -0.001    0.000    0.001   -0.000   -0.002\n",
      "   0.029    0.000   -0.029   -0.000    0.029    0.000   -0.029   -0.000    0.028    0.000\n",
      "   0.000    0.000   -0.000   -0.001    0.000    0.001   -0.000   -0.002    0.000    0.002\n",
      "\n",
      "Full Hamiltonian\n",
      "   4.965   -0.000   -0.030   -0.000    0.030    0.000   -0.030   -0.000    0.029   -0.000\n",
      "   0.000   19.739    0.000   -0.000    0.000    0.000    0.000   -0.000   -0.000    0.000\n",
      "  -0.030    0.000   44.443   -0.000   -0.030    0.000    0.029   -0.000   -0.029    0.000\n",
      "   0.000   -0.000    0.000   78.957    0.000   -0.000   -0.000    0.001   -0.000   -0.001\n",
      "   0.030    0.000   -0.030    0.000  123.400    0.000   -0.029    0.000    0.029    0.000\n",
      "   0.000    0.000    0.000   -0.000    0.000  177.654    0.000   -0.001    0.000    0.001\n",
      "  -0.030    0.000    0.029   -0.000   -0.029   -0.000  241.834   -0.000   -0.029   -0.000\n",
      "   0.000   -0.000   -0.000    0.001    0.000   -0.001   -0.000  315.829   -0.000   -0.002\n",
      "   0.029   -0.000   -0.029   -0.000    0.029    0.000   -0.029   -0.000  399.747    0.000\n",
      "  -0.000    0.000    0.000   -0.001   -0.000    0.001   -0.000   -0.002    0.000  493.482\n"
     ]
    }
   ],
   "source": [
    "# Version 1: hand-written loops\n",
    "print \"Potential matrix elements:\"\n",
    "for phi_n in normalised_eigenbases:\n",
    "    # Loop over basis functions phi_m (the ket in the matrix element)\n",
    "    for phi_m in normalised_eigenbases:\n",
    "        # Create matrix element by integrating\n",
    "        H_mn = integrate_function(phi_n * PE_term(Vbump, phi_m), dx)\n",
    "        # The comma at the end prints without a new line; the %8.3f formats the number\n",
    "        print \"%8.3f\" % H_mn,\n",
    "    # This print puts in a new line when we have finished looping over m\n",
    "    print\n",
    "\n",
    "print\n",
    "print \"Full Hamiltonian\"\n",
    "# Loop over basis functions phi_n (the bra in the matrix element)\n",
    "# Calculate and store the matrix elements for the full Hamiltonian\n",
    "for phi_n in normalised_eigenbases:\n",
    "    # Loop over basis functions phi_m (the ket in the matrix element)\n",
    "    for phi_m, d2phi_m in zip(normalised_eigenbases, d2normalised_eigenbases):\n",
    "        # Create matrix element by integrating\n",
    "        H_mn = integrate_function(phi_n * Hamiltonian(Vbump, phi_m, d2phi_m), dx)\n",
    "        # The comma at the end prints without a new line; the %8.3f formats the number\n",
    "        print \"%8.3f\" % H_mn,\n",
    "    # This print puts in a new line when we have finished looping over m\n",
    "    print"
   ]
  },
  {
   "cell_type": "markdown",
   "metadata": {
    "ein.tags": [
     "worksheet-0"
    ]
   },
   "source": [
    "But this is probably more clearly expressed with functions which calculate the terms and their components, and a list comprehension feeding into a numpy array. (TODO: Pick one for the final version):"
   ]
  },
  {
   "cell_type": "code",
   "execution_count": 8,
   "metadata": {
    "autoscroll": "json-false",
    "collapsed": false,
    "ein.tags": [
     "worksheet-0"
    ]
   },
   "outputs": [
    {
     "name": "stdout",
     "output_type": "stream",
     "text": [
      "Potential matrix:\n",
      "[[ 0.03   0.    -0.03  -0.     0.03   0.    -0.03  -0.     0.029  0.   ]\n",
      " [ 0.     0.    -0.    -0.     0.     0.    -0.    -0.     0.     0.   ]\n",
      " [-0.03  -0.     0.03   0.    -0.03  -0.     0.029  0.    -0.029 -0.   ]\n",
      " [-0.    -0.     0.     0.    -0.    -0.     0.     0.001 -0.    -0.001]\n",
      " [ 0.03   0.    -0.03  -0.     0.03   0.    -0.029 -0.     0.029  0.   ]\n",
      " [ 0.     0.    -0.    -0.     0.     0.001 -0.    -0.001  0.     0.001]\n",
      " [-0.03  -0.     0.029  0.    -0.029 -0.     0.029  0.    -0.029 -0.   ]\n",
      " [-0.    -0.     0.     0.001 -0.    -0.001  0.     0.001 -0.    -0.002]\n",
      " [ 0.029  0.    -0.029 -0.     0.029  0.    -0.029 -0.     0.028  0.   ]\n",
      " [ 0.     0.    -0.    -0.001  0.     0.001 -0.    -0.002  0.     0.002]]\n",
      "Full Hamiltonian matrix:\n",
      "[[   4.965    0.      -0.03     0.       0.03     0.      -0.03     0.       0.029   -0.   ]\n",
      " [  -0.      19.739    0.      -0.       0.       0.       0.      -0.      -0.       0.   ]\n",
      " [  -0.03     0.      44.443    0.      -0.03     0.       0.029   -0.      -0.029    0.   ]\n",
      " [  -0.      -0.      -0.      78.957    0.      -0.      -0.       0.001   -0.      -0.001]\n",
      " [   0.03     0.      -0.03     0.     123.4      0.      -0.029    0.       0.029   -0.   ]\n",
      " [   0.       0.       0.      -0.       0.     177.654   -0.      -0.001    0.       0.001]\n",
      " [  -0.03     0.       0.029   -0.      -0.029    0.     241.834   -0.      -0.029   -0.   ]\n",
      " [  -0.      -0.      -0.       0.001    0.      -0.001   -0.     315.829   -0.      -0.002]\n",
      " [   0.029   -0.      -0.029   -0.       0.029    0.      -0.029   -0.     399.747    0.   ]\n",
      " [  -0.       0.       0.      -0.001    0.       0.001   -0.      -0.002    0.     493.482]]\n"
     ]
    }
   ],
   "source": [
    "# Version 2: Higher-level numpy utilies and list comprehensions\n",
    "np.set_printoptions(precision=3, linewidth=180, suppress=True)\n",
    "\n",
    "print \"Potential matrix:\"\n",
    "Hmat = np.array([[integrate_function(phi_n *     PE_term(Vbump, phi_m         ), dx)\n",
    "                  for phi_n in normalised_eigenbases]\n",
    "                  for phi_m in normalised_eigenbases])\n",
    "print Hmat\n",
    "\n",
    "print \"Full Hamiltonian matrix:\"\n",
    "Hmat = np.array([[integrate_function(phi_n * Hamiltonian(Vbump, phi_m, d2phi_m), dx)\n",
    "                  for phi_n          in     normalised_eigenbases]\n",
    "                  for phi_m, d2phi_m in zip(normalised_eigenbases, d2normalised_eigenbases)])\n",
    "print Hmat"
   ]
  },
  {
   "cell_type": "markdown",
   "metadata": {
    "ein.tags": [
     "worksheet-0"
    ]
   },
   "source": [
    "Version 3: Express this\n",
    "\n",
    "$$H_{ij} = \\langle \\phi_i \\vert \\hat{H} \\vert \\phi_j \\rangle = \\int dx \\phi_i^\\star(x) \\hat{H} \\phi_j(x)$$\n",
    "\n",
    "as a higher-order function (because it most closely resembles the maths!)"
   ]
  },
  {
   "cell_type": "code",
   "execution_count": 9,
   "metadata": {
    "autoscroll": "json-false",
    "collapsed": false,
    "ein.tags": [
     "worksheet-0"
    ]
   },
   "outputs": [],
   "source": [
    "def build_matrix(operator, V, bases, d2bases):\n",
    "    return np.array([[integrate_function(phi_n * operator(V, phi_n, d2phi_n, phi_m, d2phi_m), dx)\n",
    "                      for phi_n, d2phi_n in zip(bases, d2bases)]\n",
    "                      for phi_m, d2phi_m in zip(bases, d2bases)])"
   ]
  },
  {
   "cell_type": "markdown",
   "metadata": {
    "ein.tags": [
     "worksheet-0"
    ]
   },
   "source": [
    "For this to work, we must make the interfaces of `PE_term`, `KE_term` and `Hamiltonian` uniform"
   ]
  },
  {
   "cell_type": "code",
   "execution_count": 10,
   "metadata": {
    "autoscroll": "json-false",
    "collapsed": false,
    "ein.tags": [
     "worksheet-0"
    ]
   },
   "outputs": [],
   "source": [
    "def Hamiltonian(V, psi_n, d2psi_n, psi_m, d2psi_m):\n",
    "    return (KE_term(V, psi_n, d2psi_n, psi_m, d2psi_m) +\n",
    "            PE_term(V, psi_n, d2psi_n, psi_m, d2psi_m))\n",
    "\n",
    "def     PE_term(V, psi_n, d2psi_n, psi_m, d2psi_m):\n",
    "    return V * psi_m\n",
    "\n",
    "def     KE_term(V, psi_n, d2psi_n, psi_m, d2psi_m):\n",
    "    return -d2psi_m / 2"
   ]
  },
  {
   "cell_type": "markdown",
   "metadata": {
    "ein.tags": [
     "worksheet-0"
    ]
   },
   "source": [
    "With these in place, calculating any matrix is done with a very high level command (it merely says what you want to do: if you care about how it's done, you can look at the definition, but you're not forced to parse it here and now.)"
   ]
  },
  {
   "cell_type": "code",
   "execution_count": 11,
   "metadata": {
    "autoscroll": "json-false",
    "collapsed": false,
    "ein.tags": [
     "worksheet-0"
    ]
   },
   "outputs": [
    {
     "name": "stdout",
     "output_type": "stream",
     "text": [
      "[[ 0.03   0.    -0.03  -0.     0.03   0.    -0.03  -0.     0.029  0.   ]\n",
      " [ 0.     0.    -0.    -0.     0.     0.    -0.    -0.     0.     0.   ]\n",
      " [-0.03  -0.     0.03   0.    -0.03  -0.     0.029  0.    -0.029 -0.   ]\n",
      " [-0.    -0.     0.     0.    -0.    -0.     0.     0.001 -0.    -0.001]\n",
      " [ 0.03   0.    -0.03  -0.     0.03   0.    -0.029 -0.     0.029  0.   ]\n",
      " [ 0.     0.    -0.    -0.     0.     0.001 -0.    -0.001  0.     0.001]\n",
      " [-0.03  -0.     0.029  0.    -0.029 -0.     0.029  0.    -0.029 -0.   ]\n",
      " [-0.    -0.     0.     0.001 -0.    -0.001  0.     0.001 -0.    -0.002]\n",
      " [ 0.029  0.    -0.029 -0.     0.029  0.    -0.029 -0.     0.028  0.   ]\n",
      " [ 0.     0.    -0.    -0.001  0.     0.001 -0.    -0.002  0.     0.002]]\n",
      "[[   4.965    0.      -0.03     0.       0.03     0.      -0.03     0.       0.029   -0.   ]\n",
      " [  -0.      19.739    0.      -0.       0.       0.       0.      -0.      -0.       0.   ]\n",
      " [  -0.03     0.      44.443    0.      -0.03     0.       0.029   -0.      -0.029    0.   ]\n",
      " [  -0.      -0.      -0.      78.957    0.      -0.      -0.       0.001   -0.      -0.001]\n",
      " [   0.03     0.      -0.03     0.     123.4      0.      -0.029    0.       0.029   -0.   ]\n",
      " [   0.       0.       0.      -0.       0.     177.654   -0.      -0.001    0.       0.001]\n",
      " [  -0.03     0.       0.029   -0.      -0.029    0.     241.834   -0.      -0.029   -0.   ]\n",
      " [  -0.      -0.      -0.       0.001    0.      -0.001   -0.     315.829   -0.      -0.002]\n",
      " [   0.029   -0.      -0.029   -0.       0.029    0.      -0.029   -0.     399.747    0.   ]\n",
      " [  -0.       0.       0.      -0.001    0.       0.001   -0.      -0.002    0.     493.482]]\n"
     ]
    }
   ],
   "source": [
    "print  build_matrix(PE_term,     Vbump, normalised_eigenbases, d2normalised_eigenbases)\n",
    "Hmat = build_matrix(Hamiltonian, Vbump, normalised_eigenbases, d2normalised_eigenbases)\n",
    "print Hmat"
   ]
  },
  {
   "cell_type": "markdown",
   "metadata": {
    "ein.tags": [
     "worksheet-0"
    ]
   },
   "source": [
    "Notice that two things have changed compared to the perfect square well: first, the diagonal elements are _slightly_ larger; second, there are now off-diagonal elements.  Does it surprise you that these alternate (i.e. only in odd row and columns) ? Think about the symmetries of the system, particularly of the wavefunctions.\n",
    "\n",
    "What effect will this have on the eigenvalues and eigenvectors ? We'll diagonalise, print out the eigenvalues and plot the first few eigenvectors (as well as looking at their coefficients to get a rough idea of how much they've changed)."
   ]
  },
  {
   "cell_type": "code",
   "execution_count": 12,
   "metadata": {
    "autoscroll": "json-false",
    "collapsed": false,
    "ein.tags": [
     "worksheet-0"
    ]
   },
   "outputs": [
    {
     "name": "stdout",
     "output_type": "stream",
     "text": [
      "Eigenvalues:\n",
      "[   4.9647   19.7393   44.443    78.9571  123.3996  177.6536  241.8344  315.8286  399.7474  493.4821]\n",
      "First 3 eigenvectors:\n",
      "[[ 1.     -0.      0.0008 -0.     -0.0003  0.     -0.0001  0.     -0.0001  0.    ]\n",
      " [ 0.      1.      0.     -0.      0.      0.     -0.      0.      0.     -0.    ]\n",
      " [ 0.0008  0.     -1.     -0.      0.0004  0.      0.0001  0.      0.0001 -0.    ]]\n"
     ]
    }
   ],
   "source": [
    "# Solve using linalg module of numpy (which we've imported as la above)\n",
    "eigval, eigvec = la.eigh(Hmat)\n",
    "# This call above does the entire solution for the eigenvalues and eigenvectors !\n",
    "# Print results roughly, though apply precision of 4 to the printing\n",
    "np.set_printoptions(precision=4)\n",
    "print \"Eigenvalues:\"\n",
    "print eigval\n",
    "show_N_eigvectors = 3\n",
    "print \"First\", show_N_eigvectors, \"eigenvectors:\"\n",
    "print eigvec[:show_N_eigvectors]"
   ]
  },
  {
   "cell_type": "markdown",
   "metadata": {
    "ein.tags": [
     "worksheet-0"
    ]
   },
   "source": [
    "We can see that the eigenvalues look close to the perfect well values (we'll check them properly below).  The eigenvector coefficients show a single dominant value (corresponding to the unperturbed eigenvector), with very small contributions from other eigenvectors.  Now print the eigenvalues and calculate the change."
   ]
  },
  {
   "cell_type": "code",
   "execution_count": 13,
   "metadata": {
    "autoscroll": "json-false",
    "collapsed": false,
    "ein.tags": [
     "worksheet-0"
    ]
   },
   "outputs": [
    {
     "name": "stdout",
     "output_type": "stream",
     "text": [
      " Changed Original  Difference\n",
      "   4.965    4.935    0.030\n",
      "  19.739   19.739    0.000\n",
      "  44.443   44.413    0.030\n",
      "  78.957   78.957    0.000\n",
      " 123.400  123.370    0.030\n",
      " 177.654  177.653    0.001\n",
      " 241.834  241.805    0.029\n",
      " 315.829  315.827    0.001\n",
      " 399.747  399.719    0.028\n",
      " 493.482  493.480    0.002\n"
     ]
    }
   ],
   "source": [
    "print \" Changed Original  Difference\"\n",
    "for n,eig in enumerate(eigval,start=1):\n",
    "    print \"%8.3f %8.3f %8.3f\" % (eig, n*n*pi*pi/2, eig - n*n*pi*pi/2)"
   ]
  },
  {
   "cell_type": "markdown",
   "metadata": {
    "ein.tags": [
     "worksheet-0"
    ]
   },
   "source": [
    "Compare the differences in eigenvalues due to the small potential we've added to the diagonal terms of the potential matrix.  How close is the agreement ? You might like to change the magnitude of the potential (higher up - it's passed as an argument to the potential function) and see how this agreement changes.\n",
    "\n",
    "Now we'll plot the eigenvectors (after building them) and look at the change with respect to the eigenvectors of the original system.  Remember that any function in this space can be written as:\n",
    "\n",
    "$$\\vert\\psi\\rangle = \\sum_i c_i \\vert \\phi_i \\rangle$$\n",
    "\n",
    "We'll use this to build the eigenfunctions of the perturbed system.  In this case, $c_i$ are the coefficients in the eigenvector of the matrix, and $\\vert\\phi_i\\rangle$ are the basis functions."
   ]
  },
  {
   "cell_type": "code",
   "execution_count": 14,
   "metadata": {
    "autoscroll": "json-false",
    "collapsed": false,
    "ein.tags": [
     "worksheet-0"
    ]
   },
   "outputs": [
    {
     "data": {
      "image/png": "[encoded data removed]",
      "text/plain": [
       "<matplotlib.figure.Figure at 0x7fe1ac883150>"
      ]
     },
     "metadata": {},
     "output_type": "display_data"
    }
   ],
   "source": [
    "# Version 1: hand-coded loop\n",
    "# Define a figure to take two plots\n",
    "fig = plt.figure(figsize=(12,3))\n",
    "# Add subplots: number in y, x, index number\n",
    "ax  = fig.add_subplot(121, autoscale_on=False, xlim=(0,1), ylim=(-2,    2    ))\n",
    "ax2 = fig.add_subplot(122, autoscale_on=False, xlim=(0,1), ylim=(-0.002,0.002))\n",
    "ax .set_title(\"Eigenvectors for changed system\")\n",
    "ax2.set_title(\"Difference to perfect eigenvectors (note scale!)\")\n",
    "\n",
    "for m, eigenvector in enumerate(eigvec[:4]): # Plot the first four states\n",
    "    psi = np.dot(eigenvector, normalised_eigenbases)\n",
    "    if eigvec[m,m] < 0:  # This is just to ensure that psi and the basis function have the same phase\n",
    "        psi = -psi\n",
    "    ax.plot(x,psi)\n",
    "    # Now subtract the unperturbed eigenvector to see the change from the perturbation\n",
    "    psi = psi - normalised_eigenbases[m]\n",
    "    ax2.plot(x,psi)"
   ]
  },
  {
   "cell_type": "code",
   "execution_count": 15,
   "metadata": {
    "autoscroll": "json-false",
    "collapsed": false,
    "ein.tags": [
     "worksheet-0"
    ]
   },
   "outputs": [
    {
     "data": {
      "image/png": "[encoded data removed]",
      "text/plain": [
       "<matplotlib.figure.Figure at 0x7fe1ac1a8490>"
      ]
     },
     "metadata": {},
     "output_type": "display_data"
    }
   ],
   "source": [
    "# Version 2: numpy functions and list comprehensions\n",
    "# Define a figure to take two plots\n",
    "fig = plt.figure(figsize=(12,3))\n",
    "# Add subplots: number in y, x, index number\n",
    "ax  = fig.add_subplot(121, autoscale_on=False, xlim=(0,1), ylim=(-2,    2    ))\n",
    "ax2 = fig.add_subplot(122, autoscale_on=False, xlim=(0,1), ylim=(-0.002,0.002))\n",
    "ax .set_title(\"Eigenvectors for changed system\")\n",
    "ax2.set_title(\"Diffderence to perfect eigenvectors (note scale!)\")\n",
    "\n",
    "N = 4\n",
    "perturbed_eigenstates = [ np.dot(eigenvector, normalised_eigenbases) for eigenvector in eigvec[:N] ]\n",
    "# Ensure that the phases of the psis and the basis functions match\n",
    "signs_on_diagonal = np.sign(eigvec[:N].diagonal())\n",
    "perturbed_eigenstates = [ sign * psi for (sign, psi) in zip(signs_on_diagonal, perturbed_eigenstates)]\n",
    "\n",
    "perturbations = [ psi - phi for (psi, phi) in zip(perturbed_eigenstates, normalised_eigenbases) ]\n",
    "for (psi, perturbation) in zip(perturbed_eigenstates, perturbations):\n",
    "    ax .plot(x, psi)\n",
    "    ax2.plot(x, perturbation)"
   ]
  },
  {
   "cell_type": "markdown",
   "metadata": {
    "ein.tags": [
     "worksheet-0"
    ]
   },
   "source": [
    "Notice how the eigenvectors for this changed system are *very* close to the original system.  This is a perfect example of a good system to study with perturbation theory.  The changes in the eigenvectors can be related to matrix elements of the potential and the eigenvalues of the unperturbed system, but we won't do this just yet.\n",
    "\n",
    "In the next notebook, we will explore a more complex perturbation (a truncated quantum harmonic oscillator, or QHO) and the effects of varying the magnitude of the perturbation.  As well as improving your understanding of matrix mechanics, this should give a useful insight into the limitations of perturbation theory and finite basis sets."
   ]
  }
 ],
 "metadata": {
  "kernelspec": {
   "display_name": "Python 2",
   "language": "python",
   "name": "python2"
  },
  "language_info": {
   "codemirror_mode": {
    "name": "ipython",
    "version": 2
   },
   "file_extension": ".py",
   "mimetype": "text/x-python",
   "name": "python",
   "nbconvert_exporter": "python",
   "pygments_lexer": "ipython2",
   "version": "2.7.9"
  },
  "name": "2. Solving for eigenvalues and eigenvectors.ipynb"
 },
 "nbformat": 4,
 "nbformat_minor": 0
}
