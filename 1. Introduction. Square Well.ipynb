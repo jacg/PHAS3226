{
 "cells": [
  {
   "cell_type": "markdown",
   "metadata": {
    "ein.tags": [
     "worksheet-0"
    ]
   },
   "source": [
    "# Practical quantum mechanics using computers"
   ]
  },
  {
   "cell_type": "markdown",
   "metadata": {
    "ein.tags": [
     "worksheet-0"
    ]
   },
   "source": [
    "The standard approach to learning quantum mechanics (QM) involves a fair amount of theory, with some relatively simple pen-and-paper calculations once the theory has been introduced.  But the vast majority of practical QM calculations are done numerically, using a computer.  This series of ipython notebooks is designed to show you how this works, and to give you the ability to do these calculations for yourself.  They should deepen your understanding of how QM works.\n",
    "In this notebook, we will be setting up some basic python functions to allow you to calculate the energies of arbitrary states in an infinite square well; these functions will then be used when we change the basis set, and change the potential.\n",
    "\n",
    "The rough flow of all these QM calculations will be:\n",
    "\n",
    "* Choose and define a basis set\n",
    "* Define the potential in the well (either as a function or by values on a grid)\n",
    "* Create the Hamiltonian matrix\n",
    "* Diagonalise (using libraries) to give eigenvalues and eigenvectors\n",
    "* Display the results\n",
    "\n",
    "Before we write any of the code, we need to import the basic libraries that we will be using (numpy, matplotlib). IPython provides a convenient shortcut for doing this in one go:"
   ]
  },
  {
   "cell_type": "code",
   "execution_count": 1,
   "metadata": {
    "autoscroll": "json-false",
    "collapsed": false,
    "ein.tags": [
     "worksheet-0"
    ]
   },
   "outputs": [
    {
     "name": "stdout",
     "output_type": "stream",
     "text": [
      "Populating the interactive namespace from numpy and matplotlib\n"
     ]
    }
   ],
   "source": [
    "# Import matplotlib and numpy libraries and set up in-line plotting.\n",
    "%pylab --no-import-all inline\n",
    "# Writing np.pi instead of pi is annoying. Same for sin etc.\n",
    "from numpy import pi, sin, sqrt\n",
    "# Make printed representation of matrices visually appealing\n",
    "np.set_printoptions(precision=3, linewidth=110, suppress=True)"
   ]
  },
  {
   "cell_type": "markdown",
   "metadata": {
    "ein.tags": [
     "worksheet-0"
    ]
   },
   "source": [
    "TODO TODO TODO This probably belongs somewhere else\n",
    "\n",
    "\n",
    "In general, if we have a basis set $\\vert\\phi_i\\rangle, i=1\\rightarrow N$, we write the Hamiltonian matrix element between two basis functions as:\n",
    "\n",
    "$$\n",
    "H_{ij} = \\langle \\phi_i\\vert\\hat{H}\\vert\\phi_j\\rangle\n",
    "$$\n",
    "\n",
    "Typically these matrix elements are found by integration on a grid in real space, though there are many other approaches (and some operators and functions where this is not possible).  Remember that the indices $i$ and $j$ in $H_{ij}$ are *arbitrary*: that is, they can each take on any of the values from $1$ to $N$."
   ]
  },
  {
   "cell_type": "markdown",
   "metadata": {
    "ein.tags": [
     "worksheet-0"
    ]
   },
   "source": [
    "## The eigenbasis"
   ]
  },
  {
   "cell_type": "markdown",
   "metadata": {
    "ein.tags": [
     "worksheet-0"
    ]
   },
   "source": [
    "The simplest (but least illustrative !) basis set to use is that of the eigenvectors for the system.  For the square well, these are very simple to deduce (they are identical to the solutions for waves on a classical string fixed at both ends).  If we define the potential to be $V(x) = 0, 0 < x < a; V(x) = \\infty, x>a; V(x) = \\infty, x<0$, then the eigenvectors are:\n",
    "\n",
    "$$\n",
    "\\phi_n(x) = A\\sin\\left(\\frac{n\\pi x}{a}\\right), n=1, 2, 3, \\ldots\n",
    "$$\n",
    "\n",
    "It will be most convenient for us to define the sinusoids in terms of the width of the well and the number of half-periods that fit into the well. Comparing the above form  to the canonical sinusoidal form\n",
    "\n",
    "$$A\\sin(kx+\\phi)$$\n",
    "\n",
    "we conclude that $k = n\\pi/a$. Furthermore, we observe that taking derivatives of sinusoids\n",
    "\n",
    "$$\\frac{\\mathrm{d}\\sin(kx+\\phi)}{\\mathrm{d}x} = k\\sin(kx+\\phi+\\pi/2)$$\n",
    "\n",
    "has two effects:\n",
    "\n",
    "1. adjusting the phase by $\\pi/2$\n",
    "2. multiplying the amplitude by $k$\n",
    "\n",
    "Therefore we write a general function for generating sinusoids and their derivatives as:"
   ]
  },
  {
   "cell_type": "code",
   "execution_count": 2,
   "metadata": {
    "autoscroll": "json-false",
    "collapsed": false,
    "ein.tags": [
     "worksheet-0"
    ]
   },
   "outputs": [],
   "source": [
    "def sinusoid(x, half_periods=2, width=1, amplitude=1, derivative=0, phase=0):\n",
    "    A, a, n = amplitude, width, half_periods\n",
    "    k = n * pi / a\n",
    "    derivative_phase = (pi/2) *  derivative\n",
    "    derivative_A     =     k  ** derivative # a ** b means 'a to the power of b'\n",
    "    return A * derivative_A * sin(k*x + phase + derivative_phase)"
   ]
  },
  {
   "cell_type": "markdown",
   "metadata": {
    "ein.tags": [
     "worksheet-0"
    ]
   },
   "source": [
    "Next we define the (1-dimensional) grid on which we will be doing our calculations. It's a linearly, equally distributed set of points from 0 to 1:"
   ]
  },
  {
   "cell_type": "code",
   "execution_count": 3,
   "metadata": {
    "autoscroll": "json-false",
    "collapsed": false,
    "ein.tags": [
     "worksheet-0"
    ]
   },
   "outputs": [],
   "source": [
    "width = 1.0\n",
    "num_x_points = 101\n",
    "x = np.linspace(0,width,num_x_points)\n",
    "dx = width / (num_x_points - 1)"
   ]
  },
  {
   "cell_type": "markdown",
   "metadata": {
    "ein.tags": [
     "worksheet-0"
    ]
   },
   "source": [
    "We can now evaluate `sinusoid` on this grid and plot the result.\n",
    "\n",
    "You should play around with the arguments to `sinusoid` and plot the resulting shapes, in order to make sure you understand its behaviour. Change the arguments to `sinusoid` in the following cell and evaluate it. Here are a few suggestions\n",
    "\n",
    "+ `sinusoid(x, width=1)`\n",
    "+ `sinusoid(x, width=2)`\n",
    "+ `sinusoid(x, width=0.5)`\n",
    "+ `sinusoid(x, phase=pi)`\n",
    "+ `sinusoid(x, phase=pi/4)`\n",
    "+ `sinusoid(x, phase=pi/2)`\n",
    "+ `sinusoid(x)`\n",
    "+ `sinusoid(x, 1)`\n",
    "+ `sinusoid(x, 3)`\n",
    "+ `sinusoid(x, 4)`\n",
    "+ `sinusoid(x, derivative=1)`\n",
    "+ `sinusoid(x, derivative=2)`\n",
    "+ `sinusoid(x, derivative=3)`\n",
    "+ `sinusoid(x, derivative=4)`\n",
    "+ `sinusoid(x, amplitude=10, half_periods=9, width=10)`\n",
    "\n",
    "Don't be afraid to try your own ideas."
   ]
  },
  {
   "cell_type": "code",
   "execution_count": 4,
   "metadata": {
    "autoscroll": "json-false",
    "collapsed": false,
    "ein.tags": [
     "worksheet-0"
    ]
   },
   "outputs": [
    {
     "data": {
      "image/png": "[encoded data removed]",
      "text/plain": [
       "<matplotlib.figure.Figure at 0x7f276c58d210>"
      ]
     },
     "metadata": {},
     "output_type": "display_data"
    }
   ],
   "source": [
    "plt.plot(x, np.array(sinusoid(x)));"
   ]
  },
  {
   "cell_type": "markdown",
   "metadata": {
    "ein.tags": [
     "worksheet-0"
    ]
   },
   "source": [
    "Have you noticed that our `sinusoid` function returns a single number when its `x` parameter is a single number, and that it returns a numpy array when its `x` parameter is a numpy array? Get used to this magical behaviour in Python and numpy, and be ready to take advantage of it when the opportunity presents itself!\n",
    "\n",
    "Now let's use our `sinusoid` function to create a collection of eigenstates (and their second derivatives) for the infinite square well. These will be used repeatedly in the notebooks that follow.\n",
    "\n",
    "First we need to learn about a neat Python feature called *list comprehensions*. They provide a concise way of creating collections. Here we use a list comprehension to create a collection of the squares of the integers from 1 to 5:"
   ]
  },
  {
   "cell_type": "code",
   "execution_count": 5,
   "metadata": {
    "autoscroll": "json-false",
    "collapsed": false,
    "ein.tags": [
     "worksheet-0"
    ]
   },
   "outputs": [
    {
     "data": {
      "text/plain": [
       "[1, 4, 9, 16, 25]"
      ]
     },
     "execution_count": 5,
     "metadata": {},
     "output_type": "execute_result"
    }
   ],
   "source": [
    "[ a*a for a in range(1,6) ]"
   ]
  },
  {
   "cell_type": "markdown",
   "metadata": {
    "ein.tags": [
     "worksheet-0"
    ]
   },
   "source": [
    "List comprehensions can be nested to make collections that resemble matrices. Here we use nested list comprehensions to create a matrix of the products of a few of the first integers:"
   ]
  },
  {
   "cell_type": "code",
   "execution_count": 6,
   "metadata": {
    "autoscroll": "json-false",
    "collapsed": false,
    "ein.tags": [
     "worksheet-0"
    ]
   },
   "outputs": [
    {
     "data": {
      "text/plain": [
       "[[1, 2, 3, 4], [2, 4, 6, 8], [3, 6, 9, 12]]"
      ]
     },
     "execution_count": 6,
     "metadata": {},
     "output_type": "execute_result"
    }
   ],
   "source": [
    "[ [ a*b for a in range(1,5) ] for b in range(1,4) ]"
   ]
  },
  {
   "cell_type": "markdown",
   "metadata": {
    "ein.tags": [
     "worksheet-0"
    ]
   },
   "source": [
    "The collections created using list comprehensions can serve as a source of initial values for numpy arrays:"
   ]
  },
  {
   "cell_type": "code",
   "execution_count": 7,
   "metadata": {
    "autoscroll": "json-false",
    "collapsed": false,
    "ein.tags": [
     "worksheet-0"
    ]
   },
   "outputs": [
    {
     "data": {
      "text/plain": [
       "array([[ 1,  2,  3,  4],\n",
       "       [ 2,  4,  6,  8],\n",
       "       [ 3,  6,  9, 12]])"
      ]
     },
     "execution_count": 7,
     "metadata": {},
     "output_type": "execute_result"
    }
   ],
   "source": [
    "np.array([ [ a*b for a in range(1,5) ] for b in range(1,4) ])"
   ]
  },
  {
   "cell_type": "markdown",
   "metadata": {
    "ein.tags": [
     "worksheet-0"
    ]
   },
   "source": [
    "Don't forget to try your own variations: just modify the code in an input cell and press CONTROL-ENTER to see how it behaves!\n",
    "\n",
    "Recall that Python dictionaries are data structures which map *keys* to *values*. Here is a dictionary which maps the first four natural numbers to their squares"
   ]
  },
  {
   "cell_type": "code",
   "execution_count": 8,
   "metadata": {
    "autoscroll": "json-false",
    "collapsed": false,
    "ein.tags": [
     "worksheet-0"
    ]
   },
   "outputs": [
    {
     "name": "stdout",
     "output_type": "stream",
     "text": [
      "The whole dictionary looks like this: {1: 1, 2: 4, 3: 9, 4: 16}\n",
      "And here is the value associated with the key 3: 9\n"
     ]
    }
   ],
   "source": [
    "squares = {}\n",
    "squares[1] =  1\n",
    "squares[2] =  4\n",
    "squares[3] =  9\n",
    "squares[4] = 16\n",
    "print \"The whole dictionary looks like this:\", squares\n",
    "print \"And here is the value associated with the key 3:\", squares[3]"
   ]
  },
  {
   "cell_type": "markdown",
   "metadata": {
    "ein.tags": [
     "worksheet-0"
    ]
   },
   "source": [
    "Above, we created an empty dictionary and added key-value pairs into it, one by one. We can create an identical dictionary in one go, using the literal syntax for dictionaries:"
   ]
  },
  {
   "cell_type": "code",
   "execution_count": 9,
   "metadata": {
    "autoscroll": "json-false",
    "collapsed": false,
    "ein.tags": [
     "worksheet-0"
    ]
   },
   "outputs": [
    {
     "name": "stdout",
     "output_type": "stream",
     "text": [
      "The whole dictionary looks like this: {1: 1, 2: 4, 3: 9, 4: 16}\n",
      "And here is the value associated with the key 3: 9\n"
     ]
    }
   ],
   "source": [
    "squares = {1: 1, 2: 4, 3: 9, 4: 16}\n",
    "print \"The whole dictionary looks like this:\", squares\n",
    "print \"And here is the value associated with the key 3:\", squares[3]"
   ]
  },
  {
   "cell_type": "markdown",
   "metadata": {
    "ein.tags": [
     "worksheet-0"
    ]
   },
   "source": [
    "Finally, we could have created the dictionary with a dictionary comprehension. If you understood list comprehensions, this should be fairly obvious:"
   ]
  },
  {
   "cell_type": "code",
   "execution_count": 10,
   "metadata": {
    "autoscroll": "json-false",
    "collapsed": false,
    "ein.tags": [
     "worksheet-0"
    ]
   },
   "outputs": [
    {
     "name": "stdout",
     "output_type": "stream",
     "text": [
      "The whole dictionary looks like this: {1: 1, 2: 4, 3: 9, 4: 16}\n",
      "And here is the value associated with the key 3: 9\n"
     ]
    }
   ],
   "source": [
    "squares = { n:n*n for n in range(1,5) }\n",
    "print \"The whole dictionary looks like this:\", squares\n",
    "print \"And here is the value associated with the key 3:\", squares[3]"
   ]
  },
  {
   "cell_type": "markdown",
   "metadata": {
    "ein.tags": [
     "worksheet-0"
    ]
   },
   "source": [
    "We will use list comprehensions with our `sinusoid` function to create our collections of eigenstates and their derivatives. We will use a dictionary to store the numpy arrays which represent our functions and their derivatives: the `n`th derivative of a function will be stored in the dictionary under the key `n`. Given that we are only interested in the zeroth and second derivative, we will only store keys `0` and `2`."
   ]
  },
  {
   "cell_type": "code",
   "execution_count": 11,
   "metadata": {
    "autoscroll": "json-false",
    "collapsed": false,
    "ein.tags": [
     "worksheet-0"
    ]
   },
   "outputs": [],
   "source": [
    "number_of_base_states = 10\n",
    "unnormalised_eigenbases = { 0 : [ sinusoid(x,n              ) for n in range(1,number_of_base_states+1) ],\n",
    "                            2 : [ sinusoid(x,n, derivative=2) for n in range(1,number_of_base_states+1) ] }"
   ]
  },
  {
   "cell_type": "markdown",
   "metadata": {
    "ein.tags": [
     "worksheet-0"
    ]
   },
   "source": [
    "Now plot the first few eigenstates; we offset them vertically by adding 3n to make it clearer."
   ]
  },
  {
   "cell_type": "code",
   "execution_count": 12,
   "metadata": {
    "autoscroll": "json-false",
    "collapsed": false,
    "ein.tags": [
     "worksheet-0"
    ]
   },
   "outputs": [
    {
     "data": {
      "text/plain": [
       "(0, 11)"
      ]
     },
     "execution_count": 12,
     "metadata": {},
     "output_type": "execute_result"
    },
    {
     "data": {
      "image/png": "[encoded data removed]",
      "text/plain": [
       "<matplotlib.figure.Figure at 0x7f27822a8390>"
      ]
     },
     "metadata": {},
     "output_type": "display_data"
    }
   ],
   "source": [
    "how_many_to_plot = 4\n",
    "derivative_order = 0\n",
    "for n,eigenstate in enumerate(unnormalised_eigenbases[derivative_order][:how_many_to_plot]):\n",
    "    plt.plot(x, eigenstate + 3*n)\n",
    "plt.ylim((0,11))"
   ]
  },
  {
   "cell_type": "markdown",
   "metadata": {
    "ein.tags": [
     "worksheet-0"
    ]
   },
   "source": [
    "Do these make sense ? You should ask yourself if they match the boundary conditions, and if they fit with your expectations of the physical properties of the system.\n",
    "\n",
    "We should now be confident that our function is correct (it's always worth checking this somehow, whether through plotting the output or a simple test).\n",
    "\n",
    "Next we will normalise the eigenstates and their derivatites. To do this we need to be able to integrate our eigenstate functions. We'll use a VERY simple integration routine. Much better ones exist."
   ]
  },
  {
   "cell_type": "code",
   "execution_count": 13,
   "metadata": {
    "autoscroll": "json-false",
    "collapsed": false,
    "ein.tags": [
     "worksheet-0"
    ]
   },
   "outputs": [],
   "source": [
    "def integrate(f, dx):\n",
    "    \"\"\"Calculate the definite integral of a function approximated by a\n",
    "    numpy array with spacing dx.\"\"\"\n",
    "    return sum(f)*dx"
   ]
  },
  {
   "cell_type": "markdown",
   "metadata": {
    "ein.tags": [
     "worksheet-0"
    ]
   },
   "source": [
    "With this, we can calculate the normalisation factors for each of the basis states. These are simply $1/\\sqrt{<\\phi_n|\\phi_n>}$."
   ]
  },
  {
   "cell_type": "code",
   "execution_count": 14,
   "metadata": {
    "autoscroll": "json-false",
    "collapsed": false,
    "ein.tags": [
     "worksheet-0"
    ]
   },
   "outputs": [],
   "source": [
    "normalisations = [ sqrt(1 / integrate(phi_n * phi_n, dx)) for phi_n in unnormalised_eigenbases[0] ]"
   ]
  },
  {
   "cell_type": "markdown",
   "metadata": {
    "ein.tags": [
     "worksheet-0"
    ]
   },
   "source": [
    "Then we multiply our bases and their second derivatives by their corresponding factors, to obtain their normalised versions."
   ]
  },
  {
   "cell_type": "code",
   "execution_count": 15,
   "metadata": {
    "autoscroll": "json-false",
    "collapsed": false,
    "ein.tags": [
     "worksheet-0"
    ]
   },
   "outputs": [],
   "source": [
    "normalised_eigenbases = { 0 : [   phi*norm for   (phi,norm) in zip(unnormalised_eigenbases[0], normalisations) ],\n",
    "                          2 : [ d2phi*norm for (d2phi,norm) in zip(unnormalised_eigenbases[2], normalisations) ] }"
   ]
  },
  {
   "cell_type": "markdown",
   "metadata": {
    "ein.tags": [
     "worksheet-0"
    ]
   },
   "source": [
    "A more concise way of expressing exactly the same idea (by replacing the list comprehensions with `map`) is"
   ]
  },
  {
   "cell_type": "code",
   "execution_count": 16,
   "metadata": {
    "autoscroll": "json-false",
    "collapsed": false,
    "ein.tags": [
     "worksheet-0"
    ]
   },
   "outputs": [],
   "source": [
    "from operator import mul  # A function that behaves just like the `*` operator\n",
    "normalised_eigenbases = { 0 : map(mul, unnormalised_eigenbases[0], normalisations) ,\n",
    "                          2 : map(mul, unnormalised_eigenbases[2], normalisations)}"
   ]
  },
  {
   "cell_type": "markdown",
   "metadata": {
    "ein.tags": [
     "worksheet-0"
    ]
   },
   "source": [
    "The statement\n",
    "\n",
    "    stuff = map(mul, thingies, whatsits)\n",
    "\n",
    "translated to plain English, reads \"`stuff` is a new collection created by elementwise `mul`tiplication of the elements found in `thingies` and `whatsits`\".\n",
    "\n",
    "We could generalise the process to dictionaries containing any collections of derivatives, by using a dictionary comprehension:"
   ]
  },
  {
   "cell_type": "code",
   "execution_count": 17,
   "metadata": {
    "autoscroll": "json-false",
    "collapsed": false,
    "ein.tags": [
     "worksheet-0"
    ]
   },
   "outputs": [],
   "source": [
    "normalised_eigenbases = { n : map(mul, functions, normalisations)\n",
    "                          for (n, functions) in unnormalised_eigenbases.items() }"
   ]
  },
  {
   "cell_type": "markdown",
   "metadata": {
    "ein.tags": [
     "worksheet-0"
    ]
   },
   "source": [
    "Next we need to look at column and row vectors from a numpy perspective."
   ]
  },
  {
   "cell_type": "code",
   "execution_count": 18,
   "metadata": {
    "autoscroll": "json-false",
    "collapsed": false,
    "ein.tags": [
     "worksheet-0"
    ]
   },
   "outputs": [
    {
     "name": "stdout",
     "output_type": "stream",
     "text": [
      "--------- A (1x5) matrix representing a row vector ------------\n",
      "(1, 5)\n",
      "[[0 1 2 3 4]]\n",
      "-------- A (5x1) matrix representing a column vector ----------\n",
      "(5, 1)\n",
      "[[0]\n",
      " [1]\n",
      " [2]\n",
      " [3]\n",
      " [4]]\n",
      "------- row . col ---------- (1x5) . (5x1) --> (1x1)-----------\n",
      "[[30]]\n",
      "------- col . row ---------- (5x1) . (1x5) --> (5x5)-----------\n",
      "[[ 0  0  0  0  0]\n",
      " [ 0  1  2  3  4]\n",
      " [ 0  2  4  6  8]\n",
      " [ 0  3  6  9 12]\n",
      " [ 0  4  8 12 16]]\n",
      "-------   2 . 3   ----- the same code works for scalars too! --\n",
      "6\n"
     ]
    }
   ],
   "source": [
    "print '--------- A (1x5) matrix representing a row vector ------------'\n",
    "row = np.array(range(5), ndmin=2)\n",
    "print row.shape\n",
    "print row\n",
    "print '-------- A (5x1) matrix representing a column vector ----------'\n",
    "col = row.transpose()\n",
    "print col.shape\n",
    "print col\n",
    "print '------- row . col ---------- (1x5) . (5x1) --> (1x1)-----------'\n",
    "print np.dot(row, col)\n",
    "print '------- col . row ---------- (5x1) . (1x5) --> (5x5)-----------'\n",
    "print np.dot(col, row)\n",
    "print '-------   2 . 3   ----- the same code works for scalars too! --'\n",
    "print np.dot(2,3)"
   ]
  },
  {
   "cell_type": "markdown",
   "metadata": {
    "ein.tags": [
     "worksheet-0"
    ]
   },
   "source": [
    "This naturally lends itself to implementation of a general function for the calculation of Dirac (bra-ket) notation expressions, which will allow us to calculate almost any interesting physical quantities in our exploration of QM that follows.\n",
    "\n",
    "There is a little pitfall in the way though. In the above examples our vectors were vectors of numbers, while in our Dirac expressions they will be vectors of eigenstates, which themselves are exprssed as numpy arrays. In the above examples the numpy arrays were 2-dimensional; by storing numpy arrays within them we obtain 3-dimensional numpy arrays, and the behaviour of `np.dot` for more than 2 dimensions is not entirely intuitive, or particularly well-suited to our purposes. To get around the difficulties with `np.dot` we will use `np.einsum` instead: Because the details would distract us unnecessarily, I'll simply provide you with the solution without explanation, then we'll check that it does what we want.\n",
    "\n",
    "First we create row and column vectors containing the functions described by `normalised_eigenbases`:"
   ]
  },
  {
   "cell_type": "code",
   "execution_count": 19,
   "metadata": {
    "autoscroll": "json-false",
    "collapsed": false,
    "ein.tags": [
     "worksheet-0"
    ]
   },
   "outputs": [
    {
     "name": "stdout",
     "output_type": "stream",
     "text": [
      "phi_bra contains row    vectors of arrays:  (1, 10, 101) (1, 10, 101)\n",
      "phi_ket contains column vectors of arrays:  (10, 1, 101) (10, 1, 101)\n"
     ]
    }
   ],
   "source": [
    "phi_bra = { n : np.array(functions, ndmin=3) for (n, functions) in normalised_eigenbases.items() }\n",
    "phi_ket = { n : array.transpose(1,0,2)       for (n, array)     in phi_bra.              items() }\n",
    "print \"phi_bra contains row    vectors of arrays: \", phi_bra[0].shape, phi_bra[2].shape\n",
    "print \"phi_ket contains column vectors of arrays: \", phi_ket[0].shape, phi_ket[2].shape"
   ]
  },
  {
   "cell_type": "markdown",
   "metadata": {
    "ein.tags": [
     "worksheet-0"
    ]
   },
   "source": [
    "Here is the implementation of our dirac expression evaluator (don't try to understand it on first reading):"
   ]
  },
  {
   "cell_type": "code",
   "execution_count": 20,
   "metadata": {
    "autoscroll": "json-false",
    "collapsed": false,
    "ein.tags": [
     "worksheet-0"
    ]
   },
   "outputs": [],
   "source": [
    "def no_op(arg):\n",
    "    \"An operator which does nothing. \"\n",
    "    return arg    \n",
    "\n",
    "class Missing_dx(Exception): pass\n",
    "    \n",
    "def dirac(bra, op_or_ket, ket=None, dx=None, integrate=integrate):\n",
    "    if dx is None:\n",
    "        raise Missing_dx(\"Must provide a dx in call to `dirac`.\")\n",
    "    if ket is None:\n",
    "        ket = op_or_ket\n",
    "        op = no_op\n",
    "    else:\n",
    "        op = op_or_ket\n",
    "    return integrate(np.einsum('ij...,jk...', bra, op(ket)), dx)"
   ]
  },
  {
   "cell_type": "markdown",
   "metadata": {
    "ein.tags": [
     "worksheet-0"
    ]
   },
   "source": [
    "If the $\\phi_n$ really are orthogonal and normalised, then\n",
    "\n",
    "$$\n",
    "| \\phi_m><\\phi_n |\n",
    "$$\n",
    "\n",
    "should be an identity matrix. Let's check that our tools reproduce this:"
   ]
  },
  {
   "cell_type": "code",
   "execution_count": 21,
   "metadata": {
    "autoscroll": "json-false",
    "collapsed": false,
    "ein.tags": [
     "worksheet-0"
    ]
   },
   "outputs": [
    {
     "data": {
      "text/plain": [
       "array([[ 1., -0., -0., -0.,  0.,  0.,  0.,  0.,  0., -0.],\n",
       "       [-0.,  1.,  0.,  0.,  0., -0.,  0., -0., -0., -0.],\n",
       "       [-0.,  0.,  1.,  0.,  0.,  0., -0., -0.,  0.,  0.],\n",
       "       [-0.,  0.,  0.,  1.,  0.,  0., -0., -0., -0., -0.],\n",
       "       [ 0.,  0.,  0.,  0.,  1., -0.,  0.,  0., -0., -0.],\n",
       "       [ 0., -0.,  0.,  0., -0.,  1.,  0., -0.,  0.,  0.],\n",
       "       [ 0.,  0., -0., -0.,  0.,  0.,  1., -0.,  0., -0.],\n",
       "       [ 0., -0., -0., -0.,  0., -0., -0.,  1., -0.,  0.],\n",
       "       [ 0., -0.,  0., -0., -0.,  0.,  0., -0.,  1., -0.],\n",
       "       [-0., -0.,  0., -0., -0.,  0., -0.,  0., -0.,  1.]])"
      ]
     },
     "execution_count": 21,
     "metadata": {},
     "output_type": "execute_result"
    }
   ],
   "source": [
    "dirac(phi_ket[0], phi_bra[0], dx=dx)"
   ]
  },
  {
   "cell_type": "markdown",
   "metadata": {
    "ein.tags": [
     "worksheet-0"
    ]
   },
   "source": [
    "Our `dirac` function also allows us to feed operators into the calculation. Let's write the kinetic term of the Hamiltonian first, as it is the simplest:\n",
    "\n",
    "$$\n",
    "\\mathrm{KE} = -\\frac{1}{2}\\frac{\\mathrm{d}^2\\phi_n}{\\mathrm{d}x^2}\n",
    "$$\n",
    "\n",
    "Remember that we stored the eigenstates in `phi_ket[0]` and their second derivatives in `phi_ket[2]`, so"
   ]
  },
  {
   "cell_type": "code",
   "execution_count": 22,
   "metadata": {
    "autoscroll": "json-false",
    "collapsed": false,
    "ein.tags": [
     "worksheet-0"
    ]
   },
   "outputs": [],
   "source": [
    "def KE_term(phi):\n",
    "    return - phi[2] / 2"
   ]
  },
  {
   "cell_type": "markdown",
   "metadata": {
    "ein.tags": [
     "worksheet-0"
    ]
   },
   "source": [
    "The potential term is a little more complicated: On the one hand it must have the same interface as `KE_term` in that it receives the dictionary representing the state functions and their derivatives as its sole argument; on the other hand we must also be able to feed it a specific potential. The solution is to write a factory function which accepts the potential and creates an operator which depends on that potential:"
   ]
  },
  {
   "cell_type": "code",
   "execution_count": 23,
   "metadata": {
    "autoscroll": "json-false",
    "collapsed": false,
    "ein.tags": [
     "worksheet-0"
    ]
   },
   "outputs": [],
   "source": [
    "def PE_term(V):\n",
    "    def PE_term(phi):\n",
    "        return V * phi[0]\n",
    "    return PE_term"
   ]
  },
  {
   "cell_type": "markdown",
   "metadata": {
    "ein.tags": [
     "worksheet-0"
    ]
   },
   "source": [
    "The Hamiltonian is just the sum of these two. As any specific Hamiltonian also depends on `V` it needs to be written in the same fashion as `PE_term`"
   ]
  },
  {
   "cell_type": "code",
   "execution_count": 24,
   "metadata": {
    "autoscroll": "json-false",
    "collapsed": false,
    "ein.tags": [
     "worksheet-0"
    ]
   },
   "outputs": [],
   "source": [
    "def Hamiltonian(V):\n",
    "    PE = PE_term(V)\n",
    "    def Hamiltonian(phi):\n",
    "        return PE(phi) + KE_term(phi)\n",
    "    return Hamiltonian"
   ]
  },
  {
   "cell_type": "markdown",
   "metadata": {
    "ein.tags": [
     "worksheet-0"
    ]
   },
   "source": [
    "In our infinite square well, the potential is zero for every value of $x$ inside the well:"
   ]
  },
  {
   "cell_type": "code",
   "execution_count": 25,
   "metadata": {
    "autoscroll": "json-false",
    "collapsed": false,
    "ein.tags": [
     "worksheet-0"
    ]
   },
   "outputs": [],
   "source": [
    "V_flat = np.zeros_like(x)"
   ]
  },
  {
   "cell_type": "markdown",
   "metadata": {
    "ein.tags": [
     "worksheet-0"
    ]
   },
   "source": [
    "Constructing a Hamiltonian with this potential and feeding it into `dirac`"
   ]
  },
  {
   "cell_type": "code",
   "execution_count": 26,
   "metadata": {
    "autoscroll": "json-false",
    "collapsed": false,
    "ein.tags": [
     "worksheet-0"
    ]
   },
   "outputs": [
    {
     "data": {
      "text/plain": [
       "array([[   4.935,   -0.   ,    0.   ,   -0.   ,    0.   ,    0.   ,   -0.   ,   -0.   ,    0.   ,    0.   ],\n",
       "       [  -0.   ,   19.739,   -0.   ,   -0.   ,   -0.   ,    0.   ,   -0.   ,   -0.   ,   -0.   ,   -0.   ],\n",
       "       [   0.   ,   -0.   ,   44.413,    0.   ,    0.   ,    0.   ,   -0.   ,   -0.   ,    0.   ,    0.   ],\n",
       "       [  -0.   ,   -0.   ,   -0.   ,   78.957,   -0.   ,   -0.   ,   -0.   ,   -0.   ,   -0.   ,   -0.   ],\n",
       "       [   0.   ,    0.   ,   -0.   ,   -0.   ,  123.37 ,    0.   ,    0.   ,    0.   ,   -0.   ,    0.   ],\n",
       "       [  -0.   ,    0.   ,    0.   ,   -0.   ,   -0.   ,  177.653,    0.   ,   -0.   ,   -0.   ,    0.   ],\n",
       "       [  -0.   ,   -0.   ,   -0.   ,   -0.   ,    0.   ,   -0.   ,  241.805,   -0.   ,    0.   ,   -0.   ],\n",
       "       [  -0.   ,   -0.   ,   -0.   ,   -0.   ,    0.   ,   -0.   ,   -0.   ,  315.827,   -0.   ,    0.   ],\n",
       "       [   0.   ,   -0.   ,    0.   ,   -0.   ,    0.   ,    0.   ,    0.   ,   -0.   ,  399.719,    0.   ],\n",
       "       [  -0.   ,   -0.   ,    0.   ,   -0.   ,   -0.   ,    0.   ,   -0.   ,    0.   ,   -0.   ,  493.48 ]])"
      ]
     },
     "execution_count": 26,
     "metadata": {},
     "output_type": "execute_result"
    }
   ],
   "source": [
    "dirac(phi_ket[0], Hamiltonian(V_flat), phi_bra,    dx=dx)"
   ]
  },
  {
   "cell_type": "code",
   "execution_count": 27,
   "metadata": {
    "autoscroll": "json-false",
    "collapsed": false,
    "ein.tags": [
     "worksheet-0"
    ]
   },
   "outputs": [
    {
     "data": {
      "image/png": "[encoded data removed]",
      "text/plain": [
       "<matplotlib.figure.Figure at 0x7f276c1ac3d0>"
      ]
     },
     "metadata": {},
     "output_type": "display_data"
    }
   ],
   "source": [
    "def gaussian(x, mu, sigma):\n",
    "  return np.exp(-np.power((x - mu)/(2*sigma), 2))\n",
    "\n",
    "plt.plot(x, 0.9 * gaussian(x, 0.5, 0.01))\n",
    "plt.plot(x, 0.7 * gaussian(x, 0.5, 0.02))\n",
    "plt.plot(x, 0.5 * gaussian(x, 0.5, 0.03))\n",
    "\n",
    "def bump(x, height, half_width):\n",
    "    mid = x.size // 2\n",
    "    V = np.zeros_like(x)\n",
    "    V[mid-half_width : mid+half_width+1] = [height]*(2*half_width+1)\n",
    "    return V\n",
    "# plt.plot(x, bump(x, 0.9, 1))\n",
    "# plt.plot(x, bump(x, 0.7, 5))\n",
    "# plt.plot(x, bump(x, 0.5, 7))"
   ]
  },
  {
   "cell_type": "code",
   "execution_count": 28,
   "metadata": {
    "autoscroll": "json-false",
    "collapsed": false,
    "ein.tags": [
     "worksheet-0"
    ]
   },
   "outputs": [
    {
     "data": {
      "text/plain": [
       "array([[   4.965,   -0.   ,   -0.03 ,    0.   ,    0.03 ,    0.   ,   -0.03 ,   -0.   ,    0.029,    0.   ],\n",
       "       [  -0.   ,   19.739,   -0.   ,   -0.   ,   -0.   ,    0.   ,   -0.   ,   -0.   ,   -0.   ,    0.   ],\n",
       "       [  -0.03 ,   -0.   ,   44.443,    0.   ,   -0.03 ,    0.   ,    0.029,   -0.   ,   -0.029,    0.   ],\n",
       "       [  -0.   ,   -0.   ,   -0.   ,   78.957,    0.   ,   -0.   ,   -0.   ,    0.001,   -0.   ,   -0.001],\n",
       "       [   0.03 ,    0.   ,   -0.03 ,    0.   ,  123.4  ,    0.   ,   -0.029,    0.   ,    0.029,    0.   ],\n",
       "       [  -0.   ,    0.   ,    0.   ,   -0.   ,   -0.   ,  177.654,    0.   ,   -0.001,   -0.   ,    0.001],\n",
       "       [  -0.03 ,   -0.   ,    0.029,   -0.   ,   -0.029,   -0.   ,  241.834,   -0.   ,   -0.029,   -0.   ],\n",
       "       [   0.   ,   -0.   ,   -0.   ,    0.001,    0.   ,   -0.001,   -0.   ,  315.829,   -0.   ,   -0.002],\n",
       "       [   0.029,   -0.   ,   -0.029,   -0.   ,    0.029,    0.   ,   -0.029,   -0.   ,  399.747,    0.   ],\n",
       "       [  -0.   ,    0.   ,    0.   ,   -0.001,   -0.   ,    0.001,   -0.   ,   -0.002,   -0.   ,  493.482]])"
      ]
     },
     "execution_count": 28,
     "metadata": {},
     "output_type": "execute_result"
    }
   ],
   "source": [
    "V_bump = bump(x, 0.5, 1)\n",
    "dirac(phi_ket[0], Hamiltonian(V_bump), phi_bra,    dx=dx)"
   ]
  },
  {
   "cell_type": "markdown",
   "metadata": {
    "ein.tags": [
     "worksheet-0"
    ]
   },
   "source": [
    "We are ready to calculate the energies:\n",
    "\n",
    "$$\n",
    "E_n = <\\phi_n | \\hat{H} | \\phi_n >\n",
    "$$\n",
    "\n",
    "where\n",
    "\n",
    "$$\n",
    "\\hat{H} \\phi_n = \\frac{-\\mathrm{d}^2\\phi_n}{\\mathrm{d}x^2}\n",
    "$$\n",
    "\n",
    "because $\\hbar = m = 1$ and $V=0,\\ \\forall x$ within the well."
   ]
  },
  {
   "cell_type": "code",
   "execution_count": 29,
   "metadata": {
    "autoscroll": "json-false",
    "collapsed": false,
    "ein.tags": [
     "worksheet-0"
    ]
   },
   "outputs": [],
   "source": [
    "# Replace this with something that uses `dirac`\n",
    "energies_numeric = [ integrate(- phi_n * d2phi_n / 2, dx)\n",
    "                     for (phi_n, d2phi_n) in zip(normalised_eigenbases[0], normalised_eigenbases[2]) ]"
   ]
  },
  {
   "cell_type": "markdown",
   "metadata": {
    "ein.tags": [
     "worksheet-0"
    ]
   },
   "source": [
    "We can also calculate these energies analytically:\n",
    "\n",
    "$$\n",
    "E_n = \\frac{n^2\\pi^2}{2}\n",
    "$$"
   ]
  },
  {
   "cell_type": "code",
   "execution_count": 30,
   "metadata": {
    "autoscroll": "json-false",
    "collapsed": false,
    "ein.tags": [
     "worksheet-0"
    ]
   },
   "outputs": [],
   "source": [
    "energies_analytic = [ n*n*pi*pi/2 for n in range(1, len(normalised_eigenbases)+1) ]"
   ]
  },
  {
   "cell_type": "markdown",
   "metadata": {
    "ein.tags": [
     "worksheet-0"
    ]
   },
   "source": [
    "Comparing the numeric and analytic results"
   ]
  },
  {
   "cell_type": "code",
   "execution_count": 31,
   "metadata": {
    "autoscroll": "json-false",
    "collapsed": false,
    "ein.tags": [
     "worksheet-0"
    ]
   },
   "outputs": [
    {
     "name": "stdout",
     "output_type": "stream",
     "text": [
      "Energy calculated for eigenstate n =  1 is   4.9348022005447\n",
      "Energy expected   for eigenstate n =  1 is   4.9348022005447\n",
      "Energy calculated for eigenstate n =  2 is  19.7392088021787\n",
      "Energy expected   for eigenstate n =  2 is  19.7392088021787\n"
     ]
    }
   ],
   "source": [
    "for n,(E_n, E_a) in enumerate(zip(energies_numeric, energies_analytic),1):\n",
    "    print \"Energy calculated for eigenstate n = {:2d} is {:17.13f}\".format(n, E_n)\n",
    "    print \"Energy expected   for eigenstate n = {:2d} is {:17.13f}\".format(n, E_a)"
   ]
  },
  {
   "cell_type": "markdown",
   "metadata": {
    "ein.tags": [
     "worksheet-0"
    ]
   },
   "source": [
    "<font color='red'>ASIDE</font>\n",
    "\n",
    "We can also get these out giving our `dirac` function two kets or two bras around the operator, but I suspect that, officially speaking, this shouldn't work."
   ]
  },
  {
   "cell_type": "code",
   "execution_count": 32,
   "metadata": {
    "autoscroll": "json-false",
    "collapsed": false,
    "ein.tags": [
     "worksheet-0"
    ]
   },
   "outputs": [
    {
     "name": "stdout",
     "output_type": "stream",
     "text": [
      "[[   4.935   19.739   44.413   78.957  123.37   177.653  241.805  315.827  399.719  493.48 ]]\n",
      "[[   4.935]\n",
      " [  19.739]\n",
      " [  44.413]\n",
      " [  78.957]\n",
      " [ 123.37 ]\n",
      " [ 177.653]\n",
      " [ 241.805]\n",
      " [ 315.827]\n",
      " [ 399.719]\n",
      " [ 493.48 ]]\n"
     ]
    }
   ],
   "source": [
    "print dirac(phi_bra[0], Hamiltonian(V_flat), phi_bra   , dx=dx)\n",
    "print dirac(phi_ket[0], Hamiltonian(V_flat), phi_ket   , dx=dx)"
   ]
  },
  {
   "cell_type": "markdown",
   "metadata": {
    "ein.tags": [
     "worksheet-0"
    ]
   },
   "source": [
    "we see that these numbers agree extremely well ! We would find worse agreement if we used fewer points in our x array (you might like to try this)."
   ]
  },
  {
   "cell_type": "markdown",
   "metadata": {
    "ein.tags": [
     "worksheet-0"
    ]
   },
   "source": [
    "## Matrix representation"
   ]
  },
  {
   "cell_type": "markdown",
   "metadata": {
    "ein.tags": [
     "worksheet-0"
    ]
   },
   "source": [
    "What about the rest of the Hamiltonian matrix? We will want to caluclate such matrices for different potentials in later notebooks, so it's worth investing a little effort in producing a general utility for calculating them.\n",
    "\n",
    "Recall that we write the Hamiltonian matrix element between two basis functions as:\n",
    "\n",
    "$$\n",
    "H_{ij} = \\langle \\phi_i\\vert\\hat{H}\\vert\\phi_j\\rangle\n",
    "$$\n",
    "\n",
    "Here is a Python utility which allows us to build matrices with these elemets, for any arbitrary operator and sets of basis functions (and their second derivatives)."
   ]
  },
  {
   "cell_type": "markdown",
   "metadata": {
    "ein.tags": [
     "worksheet-0"
    ]
   },
   "source": [
    "It should not surprise you that the matrix is diagonal: because the basis vectors are eigenvectors, an operator acts on a basis vector and returns that basis vector multiplied by the relevant eigenvalue.  The orthogonality of the basis then ensures that only the diagonal elements are non-zero.\n",
    "\n",
    "Of course, we can choose other basis vectors than the eigenvectors.  In these cases, the matrix will *not* be diagonal.  We will look at this in a subsequent notebook.\n",
    "\n",
    "Once we have the Hamiltonian (or any observable matrix) we can find the eigenvalues and eigenvectors from the matrix.  There are many approaches to this, but we will rely on the built-in `numpy` routines in `numpy.linalg`: `eigh` for a Hermitian matrix (or just `eig` for a non-Hermitian matrix)."
   ]
  },
  {
   "cell_type": "markdown",
   "metadata": {
    "ein.tags": [
     "worksheet-0"
    ]
   },
   "source": [
    "## Overall procedure"
   ]
  },
  {
   "cell_type": "markdown",
   "metadata": {
    "ein.tags": [
     "worksheet-0"
    ]
   },
   "source": [
    "In general, when using the matrix approach to quantum mechanics, we will follow this pattern:\n",
    "\n",
    "* Choosepia bni=or the problem, ${\\vert\\phi_{m}\\rangle}$\n",
    "* Create the Hamiltonian matrix, $\\langle \\phi_{m} \\vert \\hat{H} \\vert \\phi_{n} \\rangle$\n",
    "* Find the eigenvalues and eigenvectors of the Hamiltonian\n",
    "* Or just evaluate the energy of a particular state, $\\vert \\psi \\rangle$\n",
    "\n",
    "There are many numerical libraries which allow you to solve for the eigenvalues and eigenvectors of a matrix.  We will introduce the `numpy` version of these, and show some examples, in the next notebook."
   ]
  },
  {
   "cell_type": "markdown",
   "metadata": {
    "ein.tags": [
     "worksheet-0"
    ]
   },
   "source": [
    "## A general state"
   ]
  },
  {
   "cell_type": "markdown",
   "metadata": {
    "ein.tags": [
     "worksheet-0"
    ]
   },
   "source": [
    "It is helpful to remember that we can also explore what happens to a general state, written as:\n",
    "\n",
    "$$\\vert \\psi \\rangle = \\sum_n c_n \\vert \\phi_n \\rangle$$\n",
    "\n",
    "We define an array of coefficients, and then build $\\vert\\psi\\rangle$ and its second derivative, and evaluate the energy in two ways: first, directly, as the expectation value of the Hamiltonian operator in this state ($\\langle \\psi \\vert \\hat{H} \\vert \\psi \\rangle$); second, by summing over the eigenvalues, weighted by the square modulus of the coefficients ($E = \\sum_n \\vert c_n \\vert^2 E_n$).  Of course, these two should be exactly the same."
   ]
  }
 ],
 "metadata": {
  "kernelspec": {
   "display_name": "Python 2",
   "language": "python",
   "name": "python2"
  },
  "language_info": {
   "codemirror_mode": {
    "name": "ipython",
    "version": 2
   },
   "file_extension": ".py",
   "mimetype": "text/x-python",
   "name": "python",
   "nbconvert_exporter": "python",
   "pygments_lexer": "ipython2",
   "version": "2.7.9"
  }
 },
 "nbformat": 4,
 "nbformat_minor": 0
}
