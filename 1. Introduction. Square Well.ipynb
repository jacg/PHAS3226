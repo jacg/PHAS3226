{
 "cells": [
  {
   "cell_type": "markdown",
   "metadata": {},
   "source": [
    "## Practical quantum mechanics using computers"
   ]
  },
  {
   "cell_type": "markdown",
   "metadata": {},
   "source": [
    "The standard approach to learning quantum mechanics (QM) involves a fair amount of theory, with some relatively simple pen-and-paper calculations once the theory has been introduced.  But the vast majority of practical QM calculations are done numerically, using a computer.  This series of ipython notebooks is designed to show you how this works, and to give you the ability to do these calculations for yourself.  They should deepen your understanding of how QM works.\n",
    "\n",
    "In this notebook, we will be setting up some basic python functions to allow you to calculate the energies of arbitrary states in an infinite square well; these functions will then be used when we change the basis set, and change the potential.\n",
    "\n",
    "The rough flow of all these QM calculations will be:\n",
    "\n",
    "* Choose and define a basis set\n",
    "* Define the potential in the well (either as a function or by values on a grid)\n",
    "* Create the Hamiltonian matrix\n",
    "* Diagonalise (using libraries) to give eigenvalues and eigenvectors\n",
    "* Display the results\n",
    "\n",
    "In general, if we have a basis set $\\vert\\phi_i\\rangle, i=1\\rightarrow N$, we write the Hamiltonian matrix element between two basis functions as:\n",
    "\n",
    "$$\n",
    "H_{ij} = \\langle \\phi_i\\vert\\hat{H}\\vert\\phi_j\\rangle\n",
    "$$\n",
    "\n",
    "Typically these matrix elements are found by integration on a grid in real space, though there are many other approaches (and some operators and functions where this is not possible).  Remember that the indices $i$ and $j$ in $H_{ij}$ are *arbitrary*: that is, they can each take on any of the values from $1$ to $N$."
   ]
  },
  {
   "cell_type": "markdown",
   "metadata": {},
   "source": [
    "### The eigenbasis"
   ]
  },
  {
   "cell_type": "markdown",
   "metadata": {},
   "source": [
    "The simplest (but least illustrative !) basis set to use is that of the eigenvectors for the system.  For the square well, these are very simple to deduce (they are identical to the solutions for waves on a classical string fixed at both ends).  If we define the potential to be $V(x) = 0, 0 < x < a; V(x) = \\infty, x>a; V(x) = \\infty, x<0$, then the eigenvectors are:\n",
    "\n",
    "$$\n",
    "\\phi_n(x) = A\\sin\\left(\\frac{n\\pi x}{a}\\right), n=1, 2, 3, \\ldots\n",
    "$$\n",
    "\n",
    "where $A$ is an appropriate normalisation constant (it's easy to show that the constant is $\\sqrt{2/a}$ but we want a general approach to normalisation so we'll add a numerical normalisation routine).  We can create a function to generate a set of eigenvectors in an array in python, and another function to normalise them; we will do this in just a moment.  \n",
    "\n",
    "However, we must first note an important point: the basis set we have defined here is technically infinite: that is, when we say that $i=1 \\rightarrow N$, we have $N=\\infty$.  Of course, even with powerful computers, we cannot use an infinite basis set, so we will have to *truncate* the set by choosing a maximum, finite value for $N$ (and note that this will mean that our calculations will be approximations, though we can improve the approximation by increasing the value we have chosen for $N$).\n",
    "\n",
    "In the next cell we will write a function `eigenbasis_sw` which will create the general eigenstate $\\phi_{n}(x)$. For completeness (and as a check) we'll then plot some of these.  We also create a function to return the second derivatives (for the kinetic energy), `d2eigenbasis_sw`, and an integration routine that we can use for normalisation, `integrate_functions`.  (In this case, we can write the second derivatives rather easily; we will see a numerical approach to differentiation in another notebook.)"
   ]
  },
  {
   "cell_type": "code",
   "execution_count": 1,
   "metadata": {
    "collapsed": false
   },
   "outputs": [
    {
     "data": {
      "text/plain": [
       "(0, 11)"
      ]
     },
     "execution_count": 1,
     "metadata": {},
     "output_type": "execute_result"
    },
    {
     "data": {
      "image/png": "[encoded data removed]",
      "text/plain": [
       "<matplotlib.figure.Figure at 0x7f38c6780690>"
      ]
     },
     "metadata": {},
     "output_type": "display_data"
    }
   ],
   "source": [
    "# Import libraries and set up in-line plotting.\n",
    "%matplotlib inline\n",
    "import matplotlib.pyplot as pl\n",
    "import numpy as np\n",
    "\n",
    "# Define the eigenbasis - normalisation needed elsewhere\n",
    "def eigenbasis_sw(n,width,norm,x):\n",
    "    \"\"\"The eigenbasis for a square well, running from 0 to a (width), sin(n pi x/a). \n",
    "    N.B. requires a normalisation factor, norm.\"\"\"\n",
    "    fac = np.pi*n/width\n",
    "    return norm*np.sin(fac*x)\n",
    "\n",
    "# We will also define the second derivative for kinetic energy (KE)\n",
    "def d2eigenbasis_sw(n,width,norm,x):\n",
    "    \"\"\"The second derivative of the eigenbasis for a square well, running from 0 to a, sin(n pi x/a)\"\"\"\n",
    "    fac = np.pi*n/width\n",
    "    return -fac*fac*norm*np.sin(fac*x)\n",
    "\n",
    "# Define the x-axis\n",
    "width = 1.0\n",
    "num_x_points = 101\n",
    "x = np.linspace(0.0,width,num_x_points)\n",
    "dx = width/(num_x_points - 1)\n",
    "\n",
    "# Integrate two functions over the width of the well\n",
    "# NB this is a VERY simple integration routine: there are much better ways\n",
    "def integrate_functions(f1,f2,size_x,dx):\n",
    "    \"\"\"Integrate two functions over defined x range with spacing dx\"\"\"\n",
    "    sum = 0.0\n",
    "    for i in range(size_x):\n",
    "        sum = sum + f1[i]*f2[i]\n",
    "    sum = sum*dx\n",
    "    return sum\n",
    "\n",
    "# This same function can be written more concisely while taking advantage of\n",
    "# the built-in capabilities of numpy arrays\n",
    "def integrate_functions(f1, f2, size_x, dx):\n",
    "    \"\"\"Integrate two functions over defined x range with spacing dx\"\"\"\n",
    "    return sum(f1*f2)*dx\n",
    "\n",
    "# Now plot the first few functions; we offset them vertically by adding 3(n-1) \n",
    "# to make it clearer; remember that range(1,5) will give number 1 to 4. We don't\n",
    "# normalise in this plot.\n",
    "for n in range(1,5):\n",
    "    pl.plot(x,eigenbasis_sw(n,width,1.0,x)+3*(n-1))\n",
    "# Set y-axis so that we can see all the functions\n",
    "pl.ylim((0,11))"
   ]
  },
  {
   "cell_type": "markdown",
   "metadata": {},
   "source": [
    "Do these make sense ? You should ask yourself if they match the boundary conditions, and if they fit with your expectations of the physical properties of the system.\n",
    "\n",
    "We should now be confident that our function is correct (it's always worth checking this somehow, whether through plotting the output or a simple test).  So we will create arrays to store the first ten basis states, properly normalised.  I have chosen ten for no particular reason - we could use fewer or more states."
   ]
  },
  {
   "cell_type": "code",
   "execution_count": 2,
   "metadata": {
    "collapsed": true
   },
   "outputs": [],
   "source": [
    "# These arrays will each hold an array of functions\n",
    "basis_array = []\n",
    "d2basis_array = []\n",
    "\n",
    "num_basis = 10\n",
    "# Loop over first num_basis basis states, normalise and create an array\n",
    "# NB the basis_array will start from 0\n",
    "for n in range(1,num_basis+1):\n",
    "    # Calculate A = <phi_n|phi_n>\n",
    "    integral = integrate_functions(eigenbasis_sw(n,width,1.0,x),eigenbasis_sw(n,width,1.0,x),num_x_points,dx)\n",
    "    # Use 1/sqrt{A} as normalisation constant\n",
    "    normalisation = 1.0/np.sqrt(integral)\n",
    "    basis_array.append(eigenbasis_sw(n,width,normalisation,x))\n",
    "    d2basis_array.append(d2eigenbasis_sw(n,width,normalisation,x))\n",
    "    "
   ]
  },
  {
   "cell_type": "markdown",
   "metadata": {},
   "source": [
    "Notice how we have done the numerical integration: it is a *very* simple integration scheme (there are far better ones available) which is almost an implementation of the trapezium rule.  How do we calculate the integral with the Hamiltonian ? In this case we can construct the kinetic energy explicitly, and the potential can be specified by its value on the grid.  If we do not have the second derivatives analytically, or do not want to code them, we might also use a numerical approach to differentiate (finite differences).\n",
    "\n",
    "We know that the energies for the eigenvectors are given by $E_{n} = \\hbar^{2} k_{n}^{2}/(2m) = \\hbar^{2} n^{2} \\pi^{2}/(2m a^{2})$.  We can check this easily in our code:\n",
    "\n",
    "* Calculate $\\langle \\phi_{n} \\vert \\hat{H} \\vert \\phi_{n} \\rangle$ \n",
    "* For simplicity, we'll set $\\hbar = m = 1$, so we expect $E_{n} = \\pi^{2}n^{2}/(2 a^{2})$\n",
    "* We'll calculate this and check it against the analytical result"
   ]
  },
  {
   "cell_type": "code",
   "execution_count": 3,
   "metadata": {
    "collapsed": false
   },
   "outputs": [
    {
     "name": "stdout",
     "output_type": "stream",
     "text": [
      "Energy calculated for eigenstate n= 1  is  4.93480220054\n",
      "Energy expected   for eigenstate n= 1  is  4.93480220054\n",
      "Energy calculated for eigenstate n= 2  is  19.7392088022\n",
      "Energy expected   for eigenstate n= 2  is  19.7392088022\n",
      "Energy calculated for eigenstate n= 3  is  44.4132198049\n",
      "Energy expected   for eigenstate n= 3  is  44.4132198049\n",
      "Energy calculated for eigenstate n= 4  is  78.9568352087\n",
      "Energy expected   for eigenstate n= 4  is  78.9568352087\n",
      "Energy calculated for eigenstate n= 5  is  123.370055014\n",
      "Energy expected   for eigenstate n= 5  is  123.370055014\n",
      "Energy calculated for eigenstate n= 6  is  177.65287922\n",
      "Energy expected   for eigenstate n= 6  is  177.65287922\n",
      "Energy calculated for eigenstate n= 7  is  241.805307827\n",
      "Energy expected   for eigenstate n= 7  is  241.805307827\n",
      "Energy calculated for eigenstate n= 8  is  315.827340835\n",
      "Energy expected   for eigenstate n= 8  is  315.827340835\n",
      "Energy calculated for eigenstate n= 9  is  399.718978244\n",
      "Energy expected   for eigenstate n= 9  is  399.718978244\n",
      "Energy calculated for eigenstate n= 10  is  493.480220054\n",
      "Energy expected   for eigenstate n= 10  is  493.480220054\n"
     ]
    }
   ],
   "source": [
    "energy = np.zeros(num_basis)\n",
    "for m in range(num_basis):\n",
    "    n = m+1\n",
    "    Hphi = -0.5*d2basis_array[m]\n",
    "    energy[m] = integrate_functions(basis_array[m],Hphi,num_x_points,dx)\n",
    "    print \"Energy calculated for eigenstate n=\",n,\" is \",energy[m]\n",
    "    print \"Energy expected   for eigenstate n=\",n,\" is \",n*n*np.pi*np.pi/2.0"
   ]
  },
  {
   "cell_type": "markdown",
   "metadata": {},
   "source": [
    "These numbers agree extremely well ! We would find worse agreement if we used fewer points in our x array (you might like to try this).\n",
    "\n",
    "### Matrix representation\n",
    "\n",
    "What about the rest of the Hamiltonian matrix, i.e. the numbers $\\langle \\phi_n \\vert \\hat{H} \\vert \\phi_m \\rangle$ ? We'll calculate these using two loops, and output the results.  I will use two approaches: a formatted print written in the loop, and the internal numpy printing for arrays (though this requires some changes to the options to make it look nice)."
   ]
  },
  {
   "cell_type": "code",
   "execution_count": 4,
   "metadata": {
    "collapsed": false
   },
   "outputs": [
    {
     "name": "stdout",
     "output_type": "stream",
     "text": [
      "Output of the Hamiltonian matrix elements as we calculate them\n",
      "   4.935   -0.000    0.000   -0.000    0.000    0.000    0.000   -0.000    0.000   -0.000\n",
      "  -0.000   19.739    0.000   -0.000    0.000   -0.000    0.000    0.000   -0.000   -0.000\n",
      "   0.000   -0.000   44.413   -0.000    0.000    0.000   -0.000   -0.000    0.000    0.000\n",
      "  -0.000   -0.000   -0.000   78.957    0.000   -0.000   -0.000   -0.000   -0.000   -0.000\n",
      "   0.000    0.000   -0.000    0.000  123.370    0.000    0.000    0.000   -0.000    0.000\n",
      "   0.000    0.000    0.000   -0.000    0.000  177.653    0.000   -0.000    0.000    0.000\n",
      "   0.000    0.000   -0.000   -0.000    0.000   -0.000  241.805   -0.000    0.000   -0.000\n",
      "  -0.000    0.000   -0.000   -0.000    0.000   -0.000   -0.000  315.827   -0.000    0.000\n",
      "   0.000   -0.000    0.000   -0.000   -0.000    0.000    0.000   -0.000  399.719    0.000\n",
      "  -0.000   -0.000    0.000   -0.000   -0.000    0.000   -0.000    0.000    0.000  493.480\n",
      "\n",
      "Now the numpy output with formatting\n",
      "\n",
      "[[   4.935   -0.       0.      -0.       0.       0.       0.      -0.       0.      -0.   ]\n",
      " [  -0.      19.739   -0.      -0.       0.       0.       0.       0.      -0.      -0.   ]\n",
      " [   0.       0.      44.413   -0.      -0.       0.      -0.      -0.       0.       0.   ]\n",
      " [  -0.      -0.      -0.      78.957    0.      -0.      -0.      -0.      -0.      -0.   ]\n",
      " [   0.       0.       0.       0.     123.37     0.       0.       0.      -0.      -0.   ]\n",
      " [   0.      -0.       0.      -0.       0.     177.653   -0.      -0.       0.       0.   ]\n",
      " [   0.       0.      -0.      -0.       0.       0.     241.805   -0.       0.      -0.   ]\n",
      " [  -0.       0.      -0.      -0.       0.      -0.      -0.     315.827   -0.       0.   ]\n",
      " [   0.      -0.       0.      -0.      -0.       0.       0.      -0.     399.719    0.   ]\n",
      " [  -0.      -0.       0.      -0.       0.       0.      -0.       0.       0.     493.48 ]]\n"
     ]
    }
   ],
   "source": [
    "Hmat = np.eye(num_basis)\n",
    "print \"Output of the Hamiltonian matrix elements as we calculate them\"\n",
    "# Loop over basis functions phi_n (the bra in the matrix element)\n",
    "for n in range(num_basis):\n",
    "    # Loop over basis functions phi_m (the ket in the matrix element)\n",
    "    for m in range(num_basis):\n",
    "        # Act with H on phi_m and store in H_phi_m\n",
    "        H_phi_m = -0.5*d2basis_array[m]\n",
    "        # Create matrix element by integrating\n",
    "        H_mn = integrate_functions(basis_array[n],H_phi_m,num_x_points,dx)\n",
    "        Hmat[m,n] = H_mn\n",
    "        # The comma at the end prints without a new line; the %8.3f formats the number\n",
    "        print \"%8.3f\" % H_mn,\n",
    "    # This print puts in a new line when we have finished looping over m\n",
    "    print\n",
    "\n",
    "print\n",
    "print \"Now the numpy output with formatting\"\n",
    "print\n",
    "# Another way to output is this, though it's commented out to avoid clutter\n",
    "np.set_printoptions(precision=3,linewidth=100,suppress=True)    \n",
    "print Hmat"
   ]
  },
  {
   "cell_type": "markdown",
   "metadata": {},
   "source": [
    "It should not surprise you that the matrix is diagonal: because the basis vectors are eigenvectors, an operator acts on a basis vector and returns that basis vector multiplied by the relevant eigenvalue.  The orthogonality of the basis then ensures that only the diagonal elements are non-zero.\n",
    "\n",
    "Of course, we can choose other basis vectors than the eigenvectors.  In these cases, the matrix will *not* be diagonal.  We will look at this in a subsequent notebook.\n",
    "\n",
    "Once we have the Hamiltonian (or any observable matrix) we can find the eigenvalues and eigenvectors from the matrix.  There are many approaches to this, but we will rely on the built-in `numpy` routines in `numpy.linalg`: `eigh` for a Hermitian matrix (or just `eig` for a non-Hermitian matrix)."
   ]
  },
  {
   "cell_type": "markdown",
   "metadata": {},
   "source": [
    "### Overall procedure\n",
    "\n",
    "In general, when using the matrix approach to quantum mechanics, we will follow this pattern:\n",
    "\n",
    "* Choose a basis for the problem, ${\\vert\\phi_{m}\\rangle}$\n",
    "* Create the Hamiltonian matrix, $\\langle \\phi_{m} \\vert \\hat{H} \\vert \\phi_{n} \\rangle$\n",
    "* Find the eigenvalues and eigenvectors of the Hamiltonian\n",
    "* Or just evaluate the energy of a particular state, $\\vert \\psi \\rangle$\n",
    "\n",
    "There are many numerical libraries which allow you to solve for the eigenvalues and eigenvectors of a matrix.  We will introduce the `numpy` version of these, and show some examples, in the next notebook."
   ]
  },
  {
   "cell_type": "markdown",
   "metadata": {},
   "source": [
    "### A general state"
   ]
  },
  {
   "cell_type": "markdown",
   "metadata": {},
   "source": [
    "It is helpful to remember that we can also explore what happens to a general state, written as:\n",
    "\n",
    "$$\\vert \\psi \\rangle = \\sum_n c_n \\vert \\phi_n \\rangle$$\n",
    "\n",
    "We define an array of coefficients, and then build $\\vert\\psi\\rangle$ and its second derivative, and evaluate the energy in two ways: first, directly, as the expectation value of the Hamiltonian operator in this state ($\\langle \\psi \\vert \\hat{H} \\vert \\psi \\rangle$); second, by summing over the eigenvalues, weighted by the square modulus of the coefficients ($E = \\sum_n \\vert c_n \\vert^2 E_n$).  Of course, these two should be exactly the same."
   ]
  },
  {
   "cell_type": "code",
   "execution_count": 5,
   "metadata": {
    "collapsed": false
   },
   "outputs": [
    {
     "name": "stdout",
     "output_type": "stream",
     "text": [
      "Energy numerically is:  43.5907527715\n",
      "Energy analytically is:  43.5907527715\n"
     ]
    },
    {
     "data": {
      "image/png": "[encoded data removed]",
      "text/plain": [
       "<matplotlib.figure.Figure at 0x7f38c64a1d90>"
      ]
     },
     "metadata": {},
     "output_type": "display_data"
    }
   ],
   "source": [
    "# Define a coefficient array\n",
    "coeff_array = np.zeros(num_basis)\n",
    "coeff_array[0] = 1.0\n",
    "coeff_array[2] = 2.0\n",
    "coeff_array[3] = 1.0\n",
    "# Prepare to make psi and its second derivative\n",
    "psi = np.zeros(num_x_points)\n",
    "d2psi = np.zeros(num_x_points)\n",
    "for i in range(num_basis):\n",
    "    psi = psi+coeff_array[i]*basis_array[i]\n",
    "    d2psi = d2psi+coeff_array[i]*d2basis_array[i]\n",
    "# Now we will normalise psi and apply the same factor to d2psi\n",
    "integral = integrate_functions(psi,psi,num_x_points,dx)\n",
    "psi = psi/np.sqrt(integral)\n",
    "d2psi = d2psi/np.sqrt(integral)\n",
    "# Plot psi\n",
    "pl.plot(x,psi)\n",
    "# Evaluate the energy from <psi|H|psi> - with no potential we just have\n",
    "# the kinetic energy term. We set hbar = m = 1, so KE = -0.5 d^2 H/dx^2\n",
    "Hpsi = -0.5*d2psi\n",
    "print \"Energy numerically is: \",integrate_functions(psi,Hpsi,num_x_points,dx)\n",
    "# Find the energy from the sum over coefficient\n",
    "energy_psi = 0.0\n",
    "for i in range(num_basis):\n",
    "    energy_psi = energy_psi + coeff_array[i]*coeff_array[i]*energy[i]/integral\n",
    "print \"Energy analytically is: \",energy_psi"
   ]
  },
  {
   "cell_type": "markdown",
   "metadata": {},
   "source": [
    "Again, we see that the energies agree perfectly.  Notice that the numerical approach, of evaluating the expectation value of the Hamiltonian through integration on a grid, is completely general, and can be extended to situations where the potential changes (though in that case we will need to look at how many basis functions we should include)."
   ]
  },
  {
   "cell_type": "code",
   "execution_count": null,
   "metadata": {
    "collapsed": true
   },
   "outputs": [],
   "source": []
  }
 ],
 "metadata": {
  "kernelspec": {
   "display_name": "Python 2",
   "language": "python",
   "name": "python2"
  },
  "language_info": {
   "codemirror_mode": {
    "name": "ipython",
    "version": 2
   },
   "file_extension": ".py",
   "mimetype": "text/x-python",
   "name": "python",
   "nbconvert_exporter": "python",
   "pygments_lexer": "ipython2",
   "version": "2.7.9"
  }
 },
 "nbformat": 4,
 "nbformat_minor": 0
}
